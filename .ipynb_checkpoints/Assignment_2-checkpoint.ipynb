{
  "cells": [
    {
      "cell_type": "code",
      "source": [
        "import numpy as np\n",
        "import pandas as pd\n",
        "import matplotlib.pyplot as plt\n",
        "import seaborn as sns\n",
        "import plotly.express as px\n",
        "import plotly.graph_objects as go\n",
        "import plotly.io as pio\n",
        "\n",
        "\n",
        "\n",
        "md = pd.read_csv('Medical Dataset.csv')\n",
        "\n",
        "md.head()"
      ],
      "metadata": {
        "colab": {
          "base_uri": "https://localhost:8080/",
          "height": 373
        },
        "id": "TbJnXgr-VrEH",
        "outputId": "28080630-0010-4b17-85fa-66140e4d0f89"
      },
      "id": "TbJnXgr-VrEH",
      "execution_count": null,
      "outputs": [
        {
          "output_type": "error",
          "ename": "FileNotFoundError",
          "evalue": "[Errno 2] No such file or directory: 'Medical Dataset.csv'",
          "traceback": [
            "\u001b[0;31m---------------------------------------------------------------------------\u001b[0m",
            "\u001b[0;31mFileNotFoundError\u001b[0m                         Traceback (most recent call last)",
            "\u001b[0;32m<ipython-input-2-55babb323f00>\u001b[0m in \u001b[0;36m<cell line: 11>\u001b[0;34m()\u001b[0m\n\u001b[1;32m      9\u001b[0m \u001b[0;34m\u001b[0m\u001b[0m\n\u001b[1;32m     10\u001b[0m \u001b[0;34m\u001b[0m\u001b[0m\n\u001b[0;32m---> 11\u001b[0;31m \u001b[0mmd\u001b[0m \u001b[0;34m=\u001b[0m \u001b[0mpd\u001b[0m\u001b[0;34m.\u001b[0m\u001b[0mread_csv\u001b[0m\u001b[0;34m(\u001b[0m\u001b[0;34m'Medical Dataset.csv'\u001b[0m\u001b[0;34m)\u001b[0m\u001b[0;34m\u001b[0m\u001b[0;34m\u001b[0m\u001b[0m\n\u001b[0m\u001b[1;32m     12\u001b[0m \u001b[0;34m\u001b[0m\u001b[0m\n\u001b[1;32m     13\u001b[0m \u001b[0mmd\u001b[0m\u001b[0;34m.\u001b[0m\u001b[0mhead\u001b[0m\u001b[0;34m(\u001b[0m\u001b[0;34m)\u001b[0m\u001b[0;34m\u001b[0m\u001b[0;34m\u001b[0m\u001b[0m\n",
            "\u001b[0;32m/usr/local/lib/python3.10/dist-packages/pandas/io/parsers/readers.py\u001b[0m in \u001b[0;36mread_csv\u001b[0;34m(filepath_or_buffer, sep, delimiter, header, names, index_col, usecols, dtype, engine, converters, true_values, false_values, skipinitialspace, skiprows, skipfooter, nrows, na_values, keep_default_na, na_filter, verbose, skip_blank_lines, parse_dates, infer_datetime_format, keep_date_col, date_parser, date_format, dayfirst, cache_dates, iterator, chunksize, compression, thousands, decimal, lineterminator, quotechar, quoting, doublequote, escapechar, comment, encoding, encoding_errors, dialect, on_bad_lines, delim_whitespace, low_memory, memory_map, float_precision, storage_options, dtype_backend)\u001b[0m\n\u001b[1;32m   1024\u001b[0m     \u001b[0mkwds\u001b[0m\u001b[0;34m.\u001b[0m\u001b[0mupdate\u001b[0m\u001b[0;34m(\u001b[0m\u001b[0mkwds_defaults\u001b[0m\u001b[0;34m)\u001b[0m\u001b[0;34m\u001b[0m\u001b[0;34m\u001b[0m\u001b[0m\n\u001b[1;32m   1025\u001b[0m \u001b[0;34m\u001b[0m\u001b[0m\n\u001b[0;32m-> 1026\u001b[0;31m     \u001b[0;32mreturn\u001b[0m \u001b[0m_read\u001b[0m\u001b[0;34m(\u001b[0m\u001b[0mfilepath_or_buffer\u001b[0m\u001b[0;34m,\u001b[0m \u001b[0mkwds\u001b[0m\u001b[0;34m)\u001b[0m\u001b[0;34m\u001b[0m\u001b[0;34m\u001b[0m\u001b[0m\n\u001b[0m\u001b[1;32m   1027\u001b[0m \u001b[0;34m\u001b[0m\u001b[0m\n\u001b[1;32m   1028\u001b[0m \u001b[0;34m\u001b[0m\u001b[0m\n",
            "\u001b[0;32m/usr/local/lib/python3.10/dist-packages/pandas/io/parsers/readers.py\u001b[0m in \u001b[0;36m_read\u001b[0;34m(filepath_or_buffer, kwds)\u001b[0m\n\u001b[1;32m    618\u001b[0m \u001b[0;34m\u001b[0m\u001b[0m\n\u001b[1;32m    619\u001b[0m     \u001b[0;31m# Create the parser.\u001b[0m\u001b[0;34m\u001b[0m\u001b[0;34m\u001b[0m\u001b[0m\n\u001b[0;32m--> 620\u001b[0;31m     \u001b[0mparser\u001b[0m \u001b[0;34m=\u001b[0m \u001b[0mTextFileReader\u001b[0m\u001b[0;34m(\u001b[0m\u001b[0mfilepath_or_buffer\u001b[0m\u001b[0;34m,\u001b[0m \u001b[0;34m**\u001b[0m\u001b[0mkwds\u001b[0m\u001b[0;34m)\u001b[0m\u001b[0;34m\u001b[0m\u001b[0;34m\u001b[0m\u001b[0m\n\u001b[0m\u001b[1;32m    621\u001b[0m \u001b[0;34m\u001b[0m\u001b[0m\n\u001b[1;32m    622\u001b[0m     \u001b[0;32mif\u001b[0m \u001b[0mchunksize\u001b[0m \u001b[0;32mor\u001b[0m \u001b[0miterator\u001b[0m\u001b[0;34m:\u001b[0m\u001b[0;34m\u001b[0m\u001b[0;34m\u001b[0m\u001b[0m\n",
            "\u001b[0;32m/usr/local/lib/python3.10/dist-packages/pandas/io/parsers/readers.py\u001b[0m in \u001b[0;36m__init__\u001b[0;34m(self, f, engine, **kwds)\u001b[0m\n\u001b[1;32m   1618\u001b[0m \u001b[0;34m\u001b[0m\u001b[0m\n\u001b[1;32m   1619\u001b[0m         \u001b[0mself\u001b[0m\u001b[0;34m.\u001b[0m\u001b[0mhandles\u001b[0m\u001b[0;34m:\u001b[0m \u001b[0mIOHandles\u001b[0m \u001b[0;34m|\u001b[0m \u001b[0;32mNone\u001b[0m \u001b[0;34m=\u001b[0m \u001b[0;32mNone\u001b[0m\u001b[0;34m\u001b[0m\u001b[0;34m\u001b[0m\u001b[0m\n\u001b[0;32m-> 1620\u001b[0;31m         \u001b[0mself\u001b[0m\u001b[0;34m.\u001b[0m\u001b[0m_engine\u001b[0m \u001b[0;34m=\u001b[0m \u001b[0mself\u001b[0m\u001b[0;34m.\u001b[0m\u001b[0m_make_engine\u001b[0m\u001b[0;34m(\u001b[0m\u001b[0mf\u001b[0m\u001b[0;34m,\u001b[0m \u001b[0mself\u001b[0m\u001b[0;34m.\u001b[0m\u001b[0mengine\u001b[0m\u001b[0;34m)\u001b[0m\u001b[0;34m\u001b[0m\u001b[0;34m\u001b[0m\u001b[0m\n\u001b[0m\u001b[1;32m   1621\u001b[0m \u001b[0;34m\u001b[0m\u001b[0m\n\u001b[1;32m   1622\u001b[0m     \u001b[0;32mdef\u001b[0m \u001b[0mclose\u001b[0m\u001b[0;34m(\u001b[0m\u001b[0mself\u001b[0m\u001b[0;34m)\u001b[0m \u001b[0;34m->\u001b[0m \u001b[0;32mNone\u001b[0m\u001b[0;34m:\u001b[0m\u001b[0;34m\u001b[0m\u001b[0;34m\u001b[0m\u001b[0m\n",
            "\u001b[0;32m/usr/local/lib/python3.10/dist-packages/pandas/io/parsers/readers.py\u001b[0m in \u001b[0;36m_make_engine\u001b[0;34m(self, f, engine)\u001b[0m\n\u001b[1;32m   1878\u001b[0m                 \u001b[0;32mif\u001b[0m \u001b[0;34m\"b\"\u001b[0m \u001b[0;32mnot\u001b[0m \u001b[0;32min\u001b[0m \u001b[0mmode\u001b[0m\u001b[0;34m:\u001b[0m\u001b[0;34m\u001b[0m\u001b[0;34m\u001b[0m\u001b[0m\n\u001b[1;32m   1879\u001b[0m                     \u001b[0mmode\u001b[0m \u001b[0;34m+=\u001b[0m \u001b[0;34m\"b\"\u001b[0m\u001b[0;34m\u001b[0m\u001b[0;34m\u001b[0m\u001b[0m\n\u001b[0;32m-> 1880\u001b[0;31m             self.handles = get_handle(\n\u001b[0m\u001b[1;32m   1881\u001b[0m                 \u001b[0mf\u001b[0m\u001b[0;34m,\u001b[0m\u001b[0;34m\u001b[0m\u001b[0;34m\u001b[0m\u001b[0m\n\u001b[1;32m   1882\u001b[0m                 \u001b[0mmode\u001b[0m\u001b[0;34m,\u001b[0m\u001b[0;34m\u001b[0m\u001b[0;34m\u001b[0m\u001b[0m\n",
            "\u001b[0;32m/usr/local/lib/python3.10/dist-packages/pandas/io/common.py\u001b[0m in \u001b[0;36mget_handle\u001b[0;34m(path_or_buf, mode, encoding, compression, memory_map, is_text, errors, storage_options)\u001b[0m\n\u001b[1;32m    871\u001b[0m         \u001b[0;32mif\u001b[0m \u001b[0mioargs\u001b[0m\u001b[0;34m.\u001b[0m\u001b[0mencoding\u001b[0m \u001b[0;32mand\u001b[0m \u001b[0;34m\"b\"\u001b[0m \u001b[0;32mnot\u001b[0m \u001b[0;32min\u001b[0m \u001b[0mioargs\u001b[0m\u001b[0;34m.\u001b[0m\u001b[0mmode\u001b[0m\u001b[0;34m:\u001b[0m\u001b[0;34m\u001b[0m\u001b[0;34m\u001b[0m\u001b[0m\n\u001b[1;32m    872\u001b[0m             \u001b[0;31m# Encoding\u001b[0m\u001b[0;34m\u001b[0m\u001b[0;34m\u001b[0m\u001b[0m\n\u001b[0;32m--> 873\u001b[0;31m             handle = open(\n\u001b[0m\u001b[1;32m    874\u001b[0m                 \u001b[0mhandle\u001b[0m\u001b[0;34m,\u001b[0m\u001b[0;34m\u001b[0m\u001b[0;34m\u001b[0m\u001b[0m\n\u001b[1;32m    875\u001b[0m                 \u001b[0mioargs\u001b[0m\u001b[0;34m.\u001b[0m\u001b[0mmode\u001b[0m\u001b[0;34m,\u001b[0m\u001b[0;34m\u001b[0m\u001b[0;34m\u001b[0m\u001b[0m\n",
            "\u001b[0;31mFileNotFoundError\u001b[0m: [Errno 2] No such file or directory: 'Medical Dataset.csv'"
          ]
        }
      ]
    },
    {
      "cell_type": "code",
      "source": [
        "from google.colab import drive\n",
        "drive.mount('/content/drive')"
      ],
      "metadata": {
        "id": "gUzdXSXPS22v"
      },
      "id": "gUzdXSXPS22v",
      "execution_count": null,
      "outputs": []
    },
    {
      "cell_type": "markdown",
      "source": [
        "#Task 1: Data Cleaning and Preprocessing\n",
        "Proper data cleaning is essential to remove inaccuracies, ensure consistency, and\n",
        "prepare the data for analysis."
      ],
      "metadata": {
        "id": "MjdB33ojWsZ_"
      },
      "id": "MjdB33ojWsZ_"
    },
    {
      "cell_type": "markdown",
      "source": [
        "##1. _**Datetime Conversion**_:\n",
        "Convert the 'Time of Admission' and 'Time of Discharge' columns to\n",
        "datetime format."
      ],
      "metadata": {
        "id": "JcuOF3qmW0z3"
      },
      "id": "JcuOF3qmW0z3"
    },
    {
      "cell_type": "code",
      "source": [
        "for column in md.columns:\n",
        "    print(f\"{column}: {md[column].dtype}\")"
      ],
      "metadata": {
        "id": "mZOiLXs9X4gn"
      },
      "id": "mZOiLXs9X4gn",
      "execution_count": null,
      "outputs": []
    },
    {
      "cell_type": "code",
      "source": [
        "# 1. Datetime Conversion\n",
        "md['Admission time'] = pd.to_datetime(md['Admission time'])\n",
        "md['Discharge time'] = pd.to_datetime(md['Discharge time'])\n",
        "\n",
        "\n"
      ],
      "metadata": {
        "id": "WFce8iXDXLN6"
      },
      "id": "WFce8iXDXLN6",
      "execution_count": null,
      "outputs": []
    },
    {
      "cell_type": "markdown",
      "source": [
        "## 2. ***Column Name Standardization***:\n",
        "Clean up column names to remove extra spaces and special characters."
      ],
      "metadata": {
        "id": "bWrxm3rwY0g6"
      },
      "id": "bWrxm3rwY0g6"
    },
    {
      "cell_type": "code",
      "source": [
        "# 2. Column Name Standardization\n",
        "md.columns = md.columns.str.strip().str.replace(' ', '_').str.replace('[^a-zA-Z0-9_]', '', regex=True).str.lower()\n",
        "\n"
      ],
      "metadata": {
        "id": "yTLwLVEQY7Bd"
      },
      "id": "yTLwLVEQY7Bd",
      "execution_count": null,
      "outputs": []
    },
    {
      "cell_type": "markdown",
      "source": [
        "## 3. ***Handle Missing or Inconsistent Data***:\n",
        "Identify and address missing, null, or inconsistent values (e.g., negative\n",
        "expenses, admission after discharge)."
      ],
      "metadata": {
        "id": "0gEAYCD9Zwig"
      },
      "id": "0gEAYCD9Zwig"
    },
    {
      "cell_type": "code",
      "source": [
        "# 3. Handle Missing or Inconsistent Data\n",
        "\n",
        "# a. Identify missing values\n",
        "print(md.isnull().sum())  # Print the number of missing values in each column\n",
        "\n",
        "# b. Handle missing values (choose one or a combination of methods)\n",
        "# - Drop rows with missing values in specific columns\n",
        "#md.dropna(subset=['important_column1', 'important_column2'], inplace=True)\n",
        "\n",
        "# - Impute missing values with mean/median/mode\n",
        "md['days'] = md['days'].fillna(md['days'].mean())\n",
        "# md['categorical_column'].fillna(md['categorical_column'].mode()[0], inplace=True)\n",
        "\n",
        "# c. Handle inconsistent data\n",
        "# - Replace negative expenses with 0\n",
        "md['lab_fees'] = md['lab_fees'].clip(lower=0)\n",
        "md['inspection_fees'] = md['inspection_fees'].clip(lower=0)\n",
        "# ... (similarly for other expense columns)\n",
        "\n",
        "# - Filter out rows with admission after discharge\n",
        "md = md[md['admission_time'] <= md['discharge_time']]\n"
      ],
      "metadata": {
        "id": "SdRqLjL6Z4a0"
      },
      "id": "SdRqLjL6Z4a0",
      "execution_count": null,
      "outputs": []
    },
    {
      "cell_type": "markdown",
      "source": [
        "## 4. ***Data Validation*** :\n",
        "\n",
        "Perform basic validation on key columns to ensure no anomalies such as\n",
        "unrealistic expense values or time intervals."
      ],
      "metadata": {
        "id": "BjSIPoXAcEud"
      },
      "id": "BjSIPoXAcEud"
    },
    {
      "cell_type": "code",
      "source": [
        "# 4. Data Validation\n",
        "\n",
        "def validate_data(data):\n",
        "    \"\"\"Performs basic data validation checks on key columns.\n",
        "\n",
        "    Args:\n",
        "        data (pd.DataFrame): The hospital dataset.\n",
        "\n",
        "    Returns:\n",
        "        pd.DataFrame: The dataset with validation results.\n",
        "    \"\"\"\n",
        "\n",
        "    # Check for negative values in expense columns\n",
        "    expense_cols = ['lab_fees', 'inspection_fees', 'western_medicine_fees', 'nursing_fee',\n",
        "                    'grass_fee', 'anesthesia_fee', 'other_fees', 'surgery_fees', 'bed_fee',\n",
        "                    'medical_fees']  # Add other expense columns as needed\n",
        "    for col in expense_cols:\n",
        "        data[col + '_valid'] = data[col] >= 0\n",
        "\n",
        "    # Check for unrealistic expense values (e.g., values exceeding a certain threshold)\n",
        "    # Customize the threshold based on your domain knowledge\n",
        "    expense_threshold = 100000  # Example threshold\n",
        "    for col in expense_cols:\n",
        "        data[col + '_realistic'] = data[col] <= expense_threshold\n",
        "\n",
        "    # Check for unrealistic time intervals (e.g., negative or very long stays)\n",
        "    data['stay_duration'] = (data['discharge_time'] - data['admission_time']).dt.days\n",
        "    data['stay_duration_valid'] = data['stay_duration'] >= 0\n",
        "    data['stay_duration_realistic'] = data['stay_duration'] <= 365  # Example threshold for stay duration\n",
        "\n",
        "\n",
        "\n",
        "    return data\n",
        "\n",
        "\n",
        "# Apply data validation function\n",
        "md = validate_data(md)\n",
        "\n",
        "# Print validation results (or subset for specific columns)\n",
        "validation_cols = [col for col in md.columns if col.endswith('_valid') or col.endswith('_realistic')]\n",
        "print(md[validation_cols])\n"
      ],
      "metadata": {
        "id": "IU42Pyr0cKi5"
      },
      "id": "IU42Pyr0cKi5",
      "execution_count": null,
      "outputs": []
    },
    {
      "cell_type": "markdown",
      "source": [
        "# ***Task 2: Exploratory Data Analysis (EDA)***\n",
        "Gain insights into the dataset by exploring relationships between different features.\n",
        "You should:"
      ],
      "metadata": {
        "id": "ARAjvwjheMr3"
      },
      "id": "ARAjvwjheMr3"
    },
    {
      "cell_type": "markdown",
      "source": [
        "## 1. ***Average Stay Duration***:\n",
        "Calculate the average stay duration by finding the difference between\n",
        "'Time of Admission' and 'Time of Discharge'."
      ],
      "metadata": {
        "id": "C6RzNDhjeSFv"
      },
      "id": "C6RzNDhjeSFv"
    },
    {
      "cell_type": "code",
      "source": [
        "# 1. Average Stay Duration\n",
        "md['stay_duration'] = (md['discharge_time'] - md['admission_time']).dt.days\n",
        "average_stay_duration = md['stay_duration'].mean()\n",
        "\n",
        "print(f\"Average Stay Duration: {average_stay_duration} days\")\n"
      ],
      "metadata": {
        "id": "eWSex1Bteaw-"
      },
      "id": "eWSex1Bteaw-",
      "execution_count": null,
      "outputs": []
    },
    {
      "cell_type": "markdown",
      "source": [
        "## 2. ***Departmental Analysis***:\n",
        "\n",
        "Group the data by 'Department' and calculate the average 'Medical\n",
        "Expenses' for each department."
      ],
      "metadata": {
        "id": "jBO8ycO7ewb_"
      },
      "id": "jBO8ycO7ewb_"
    },
    {
      "cell_type": "code",
      "source": [
        "average_expenses_by_department = md.groupby('department')['medical_fees'].mean()\n",
        "\n",
        "print(average_expenses_by_department)"
      ],
      "metadata": {
        "id": "TEvC2Nu7fbvD"
      },
      "id": "TEvC2Nu7fbvD",
      "execution_count": null,
      "outputs": []
    },
    {
      "cell_type": "markdown",
      "source": [
        "## 3. ***Common Discharge Diagnosis***:\n",
        "Identify the most frequent 'Discharge Diagnosis' across all patients.\n",
        "### ***Bonus:***\n",
        "Visualize distributions of key variables (e.g., using box plots or\n",
        "histograms) to show the spread and outliers in features such as 'Medical\n",
        "Expenses'.\n",
        "Investigate potential seasonal trends in admissions or expenses by\n",
        "grouping the data by month or quarter."
      ],
      "metadata": {
        "id": "Q9_Sn73cfvGR"
      },
      "id": "Q9_Sn73cfvGR"
    },
    {
      "cell_type": "code",
      "source": [
        "\n",
        "# 1. Most Frequent Discharge Diagnosis\n",
        "most_frequent_diagnosis = md['discharge_diagnosis'].mode()[0]\n",
        "print(f\"Most Frequent Discharge Diagnosis: {most_frequent_diagnosis}\")\n",
        "\n",
        "# 2. Visualize Distributions (using histogram for 'medical_fees')\n",
        "plt.figure(figsize=(8, 6))\n",
        "plt.hist(md['medical_fees'], bins=20)  # Use histogram instead of boxplot\n",
        "plt.title('Distribution of Medical Expenses')\n",
        "plt.xlabel('Medical Expenses')\n",
        "plt.ylabel('Frequency')\n",
        "plt.show()\n",
        "\n",
        "# 3. Investigate Seasonal Trends (example with monthly admissions)\n",
        "md['admission_month'] = md['admission_time'].dt.month\n",
        "monthly_admissions = md.groupby('admission_month')['admission_time'].count()\n",
        "\n",
        "plt.figure(figsize=(10, 6))\n",
        "plt.plot(monthly_admissions.index, monthly_admissions.values)\n",
        "plt.title('Monthly Admissions Trend')\n",
        "plt.xlabel('Month')\n",
        "plt.ylabel('Number of Admissions')\n",
        "plt.xticks(range(1, 13))  # Set x-axis ticks to represent months\n",
        "plt.show()"
      ],
      "metadata": {
        "id": "u_i7I3BAf_ES"
      },
      "id": "u_i7I3BAf_ES",
      "execution_count": null,
      "outputs": []
    },
    {
      "cell_type": "markdown",
      "source": [
        "# ***Task 3: Data Aggregation and Grouping***\n",
        "Summarizing and grouping data can provide deeper insights into various segments\n",
        "of the dataset. Perform the following:"
      ],
      "metadata": {
        "id": "DoJbGbX6g7KI"
      },
      "id": "DoJbGbX6g7KI"
    },
    {
      "cell_type": "markdown",
      "source": [
        "## 1. ***Place of Birth Summary***:\n",
        "Summarize total 'Expenses and Outpatient' and 'Medical Expenses' for\n",
        "each 'Place of Birth'."
      ],
      "metadata": {
        "id": "oM31aEOuhA5D"
      },
      "id": "oM31aEOuhA5D"
    },
    {
      "cell_type": "code",
      "source": [
        "for column in md.columns:\n",
        "  if md[column].dtype != 'bool':\n",
        "    print(f\"{column}: {md[column].dtype}\")\n",
        "\n"
      ],
      "metadata": {
        "id": "qVXy2lH1hoAN"
      },
      "id": "qVXy2lH1hoAN",
      "execution_count": null,
      "outputs": []
    },
    {
      "cell_type": "code",
      "source": [
        "md['expenses_and_outpatient'] = (  md['lab_fees']\n",
        "                               + md['inspection_fees']\n",
        "                               + md['western_medicine_fees']\n",
        "                               + md['nursing_fee']\n",
        "                               + md['grass_fee']\n",
        "                               + md['anesthesia_fee']\n",
        "                               + md['other_fees']\n",
        "                               + md['surgery_fees']\n",
        "                               + md['bed_fee']\n",
        "                               + md['fees_and']\n",
        "                               ).sum()\n",
        "\n",
        "#print(md['expenses_and_outpatient'])\n",
        "birth_place_summary = md.groupby('birth_place')[['expenses_and_outpatient', 'medical_fees']].sum()\n",
        "\n",
        "print(birth_place_summary)"
      ],
      "metadata": {
        "id": "lcQrEoxWhJ95"
      },
      "id": "lcQrEoxWhJ95",
      "execution_count": null,
      "outputs": []
    },
    {
      "cell_type": "markdown",
      "source": [
        "## 2. ***Departmental Expense Analysis***:\n",
        "\n",
        "Determine the average 'Surgery Expenses' and 'Bed Fees' for each\n",
        "'Department'.\n",
        "### ***Bonus:***\n",
        "To analyze medical expenses across these categories, perform multi-level\n",
        "grouping (e.g., by both 'Department' and 'Discharge Diagnosis').\n",
        "\n",
        "Aggregate expenses and patient numbers over time (e.g., monthly trends)\n",
        "to uncover hospital resource usage patterns."
      ],
      "metadata": {
        "id": "gaXHsmxqmu5m"
      },
      "id": "gaXHsmxqmu5m"
    },
    {
      "cell_type": "markdown",
      "source": [],
      "metadata": {
        "id": "BkIB5rvimu1S"
      },
      "id": "BkIB5rvimu1S"
    },
    {
      "cell_type": "code",
      "source": [
        "# 2. Departmental Expense Analysis\n",
        "\n",
        "# a. Average Surgery Expenses and Bed Fees by Department\n",
        "departmental_expenses = md.groupby('department')[['surgery_fees', 'bed_fee']].mean()\n",
        "print(\"Departmental Expenses (Average):\\n\", departmental_expenses)\n",
        "\n",
        "# Bonus:\n",
        "\n",
        "# b. Multi-level Grouping (Department and Discharge Diagnosis)\n",
        "multi_level_expenses = md.groupby(['department', 'discharge_diagnosis'])[['surgery_fees', 'bed_fee']].mean()\n",
        "print(\"\\nMulti-level Expenses (Average):\\n\", multi_level_expenses)\n",
        "\n",
        "# c. Aggregate Expenses and Patient Numbers over Time (Monthly)\n",
        "md['admission_month'] = md['admission_time'].dt.month\n",
        "monthly_expenses = md.groupby('admission_month')[['surgery_fees', 'bed_fee']].sum()\n",
        "monthly_patients = md.groupby('admission_month')['admission_time'].count()\n",
        "\n",
        "print(\"\\nMonthly Expenses (Total):\\n\", monthly_expenses)\n",
        "print(\"\\nMonthly Patient Numbers:\\n\", monthly_patients)"
      ],
      "metadata": {
        "id": "BWQTJCoJm7j-"
      },
      "id": "BWQTJCoJm7j-",
      "execution_count": null,
      "outputs": []
    },
    {
      "cell_type": "markdown",
      "source": [
        "# ***Task 4: Data Visualization***\n",
        "Effective visualizations help in interpreting the data and communicating results.\n",
        "Create the following plots:"
      ],
      "metadata": {
        "id": "ofD1n9ldnkRF"
      },
      "id": "ofD1n9ldnkRF"
    },
    {
      "cell_type": "markdown",
      "source": [],
      "metadata": {
        "id": "HGCF9g1ann2O"
      },
      "id": "HGCF9g1ann2O"
    },
    {
      "cell_type": "markdown",
      "source": [
        "## 1. ***Stay Duration Histogram***:\n",
        "Plot a histogram of the 'Days' patients stayed in the hospital."
      ],
      "metadata": {
        "id": "Bwl6zLx3n_DR"
      },
      "id": "Bwl6zLx3n_DR"
    },
    {
      "cell_type": "code",
      "source": [
        "plt.figure(figsize=(8, 6))  # Adjust figure size if needed\n",
        "plt.hist(md['days'], bins=20)  # Adjust 'bins' for desired granularity\n",
        "plt.title('Distribution of Patient Stay Duration')\n",
        "plt.xlabel('Days Stayed')\n",
        "plt.ylabel('Frequency')\n",
        "plt.show()"
      ],
      "metadata": {
        "id": "_QZFYzs-oL-P"
      },
      "id": "_QZFYzs-oL-P",
      "execution_count": null,
      "outputs": []
    },
    {
      "cell_type": "markdown",
      "source": [
        "## 2. ***Departmental Expenses Bar Chart***:\n",
        "\n",
        "Plot a bar chart showing the total 'Medical Expenses' for each department."
      ],
      "metadata": {
        "id": "XJS0LfwBobg5"
      },
      "id": "XJS0LfwBobg5"
    },
    {
      "cell_type": "code",
      "source": [
        "import matplotlib.pyplot as plt\n",
        "\n",
        "departmental_expenses = md.groupby('department')['medical_fees'].sum()\n",
        "\n",
        "plt.figure(figsize=(10, 6))  # Adjust figure size if needed\n",
        "plt.bar(departmental_expenses.index, departmental_expenses.values)\n",
        "plt.title('Total Medical Expenses by Department')\n",
        "plt.xlabel('Department')\n",
        "plt.ylabel('Total Medical Expenses')\n",
        "plt.xticks(rotation=45, ha='right')  # Rotate x-axis labels for readability\n",
        "plt.tight_layout()  # Adjust layout to prevent labels from overlapping\n",
        "plt.show()"
      ],
      "metadata": {
        "id": "aOSiFNYyoiLh"
      },
      "id": "aOSiFNYyoiLh",
      "execution_count": null,
      "outputs": []
    },
    {
      "cell_type": "markdown",
      "source": [
        "## 3. **Nursing Expenses Over Time**:\n",
        "Generate a line plot showing the trend of 'Nursing Expenses' over time,\n",
        "based on the 'Time of Admission'.\n",
        "Bonus:\n",
        "Create more sophisticated plots like heatmaps for visualizing correlations\n",
        "between numerical variables, or stacked bar charts to show expenses\n",
        "broken down by both 'Department' and 'Place of Birth'.\n",
        "Explore using interactive plotting libraries like Plotly to enhance your\n",
        "visualizations."
      ],
      "metadata": {
        "id": "CqD7eU9bowMv"
      },
      "id": "CqD7eU9bowMv"
    },
    {
      "cell_type": "code",
      "source": [
        "# 3. Nursing Expenses Over Time\n",
        "\n",
        "# a. Line Plot\n",
        "md['admission_date'] = md['admission_time'].dt.date  # Extract date from admission_time\n",
        "nursing_expenses_over_time = md.groupby('admission_date')['nursing_fee'].sum()\n",
        "\n",
        "plt.figure(figsize=(12, 6))\n",
        "plt.plot(nursing_expenses_over_time.index, nursing_expenses_over_time.values)\n",
        "plt.title('Trend of Nursing Expenses Over Time')\n",
        "plt.xlabel('Admission Date')\n",
        "plt.ylabel('Total Nursing Expenses')\n",
        "plt.xticks(rotation=45, ha='right')\n",
        "plt.tight_layout()\n",
        "plt.show()\n",
        "\n",
        "\n",
        "# Bonus:\n",
        "\n",
        "# b. Heatmap for Correlations\n",
        "numerical_cols = ['medical_fees', 'surgery_fees', 'bed_fee', 'lab_fees', 'nursing_fee']  # Add other numerical columns\n",
        "correlation_matrix = md[numerical_cols].corr()\n",
        "\n",
        "plt.figure(figsize=(8, 6))\n",
        "sns.heatmap(correlation_matrix, annot=True, cmap='coolwarm')\n",
        "plt.title('Correlation Matrix of Numerical Variables')\n",
        "plt.show()\n",
        "\n",
        "\n",
        "# c. Stacked Bar Chart (Department and Place of Birth)\n",
        "department_birth_place_expenses = md.groupby(['department', 'birth_place'])['medical_fees'].sum().unstack()\n",
        "\n",
        "department_birth_place_expenses.plot(kind='bar', stacked=True, figsize=(10, 6))\n",
        "plt.title('Medical Expenses by Department and Place of Birth')\n",
        "plt.xlabel('Department')\n",
        "plt.ylabel('Total Medical Expenses')\n",
        "plt.xticks(rotation=45, ha='right')\n",
        "plt.legend(title='Place of Birth')\n",
        "plt.tight_layout()\n",
        "plt.show()\n"
      ],
      "metadata": {
        "id": "uzqlrcxQpIGs"
      },
      "id": "uzqlrcxQpIGs",
      "execution_count": null,
      "outputs": []
    },
    {
      "cell_type": "markdown",
      "source": [
        "# Task 5: ***Advanced Analysis (Optional)***\n",
        "For those seeking an additional challenge, try these advanced tasks:"
      ],
      "metadata": {
        "id": "VDjATFizLs9Q"
      },
      "id": "VDjATFizLs9Q"
    },
    {
      "cell_type": "markdown",
      "source": [
        "## 1. ***Correlation Analysis***:\n",
        "Perform a correlation analysis between 'Medical Expenses' and other\n",
        "numerical expense-related columns to see if any strong relationships\n",
        "exist."
      ],
      "metadata": {
        "id": "AHv6KQA7Lwa0"
      },
      "id": "AHv6KQA7Lwa0"
    },
    {
      "cell_type": "code",
      "source": [
        "# 1. Correlation Analysis\n",
        "\n",
        "# Select relevant numerical columns for correlation analysis\n",
        "expense_cols = ['medical_fees', 'surgery_fees', 'bed_fee', 'lab_fees', 'nursing_fee',\n",
        "                'inspection_fees', 'western_medicine_fees', 'grass_fee',\n",
        "                'anesthesia_fee', 'other_fees']  # Include other relevant expense columns\n",
        "\n",
        "# Calculate the correlation matrix\n",
        "correlation_matrix = md[expense_cols].corr()\n",
        "\n",
        "# Print the correlation matrix\n",
        "print(correlation_matrix)\n",
        "\n",
        "# Optionally, you can filter for strong correlations (e.g., above a threshold)\n",
        "threshold = 0.7  # Adjust threshold as needed\n",
        "strong_correlations = correlation_matrix[correlation_matrix > threshold]\n",
        "print(\"\\nStrong Correlations (above threshold):\\n\", strong_correlations)\n"
      ],
      "metadata": {
        "id": "rmklqezzL2AV"
      },
      "id": "rmklqezzL2AV",
      "execution_count": null,
      "outputs": []
    }
  ],
  "metadata": {
    "kernelspec": {
      "display_name": "Python 3 (ipykernel)",
      "language": "python",
      "name": "python3"
    },
    "language_info": {
      "codemirror_mode": {
        "name": "ipython",
        "version": 3
      },
      "file_extension": ".py",
      "mimetype": "text/x-python",
      "name": "python",
      "nbconvert_exporter": "python",
      "pygments_lexer": "ipython3",
      "version": "3.12.4"
    },
    "colab": {
      "provenance": []
    }
  },
  "nbformat": 4,
  "nbformat_minor": 5
}